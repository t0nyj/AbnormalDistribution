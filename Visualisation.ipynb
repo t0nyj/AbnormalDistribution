{
 "cells": [
  {
   "cell_type": "markdown",
   "metadata": {},
   "source": [
    "# Final Visualisation"
   ]
  },
  {
   "cell_type": "code",
   "execution_count": 20,
   "metadata": {},
   "outputs": [],
   "source": [
    "import numpy as np\n",
    "import pandas as pd\n",
    "import altair as alt"
   ]
  },
  {
   "cell_type": "code",
   "execution_count": 21,
   "metadata": {},
   "outputs": [
    {
     "data": {
      "text/plain": [
       "RendererRegistry.enable('notebook')"
      ]
     },
     "execution_count": 21,
     "metadata": {},
     "output_type": "execute_result"
    }
   ],
   "source": [
    "alt.renderers.enable('notebook')"
   ]
  },
  {
   "cell_type": "code",
   "execution_count": 22,
   "metadata": {},
   "outputs": [
    {
     "data": {
      "text/plain": [
       "DataTransformerRegistry.enable('default')"
      ]
     },
     "execution_count": 22,
     "metadata": {},
     "output_type": "execute_result"
    }
   ],
   "source": [
    "alt.data_transformers.disable_max_rows()"
   ]
  },
  {
   "cell_type": "code",
   "execution_count": 23,
   "metadata": {},
   "outputs": [],
   "source": [
    "urld = \"https://raw.githubusercontent.com/t0nyj/AbnormalDistribution/master/input/athlete_events.csv?token=ACVHZKYZGRLR5JWHEI4MJGK5LBHXM\"\n",
    "urlr = \"https://raw.githubusercontent.com/t0nyj/AbnormalDistribution/master/input/noc_regions.csv?token=ACVHZK55UTLJIICN62S5REK5LBHY4\""
   ]
  },
  {
   "cell_type": "code",
   "execution_count": 24,
   "metadata": {},
   "outputs": [],
   "source": [
    "data = pd.read_csv(urld)\n",
    "regions = pd.read_csv(urlr)"
   ]
  },
  {
   "cell_type": "code",
   "execution_count": 25,
   "metadata": {},
   "outputs": [],
   "source": [
    "merged = pd.merge(data, regions, on='NOC', how='left')"
   ]
  },
  {
   "cell_type": "code",
   "execution_count": 26,
   "metadata": {},
   "outputs": [],
   "source": [
    "# get subset of gold medal winners from summer olympics\n",
    "gold = merged[(merged.Medal=='Gold')&(merged.Season=='Summer')]"
   ]
  },
  {
   "cell_type": "code",
   "execution_count": 27,
   "metadata": {},
   "outputs": [],
   "source": [
    "# remove nulls\n",
    "gold=gold[np.isfinite(gold['Age'])&np.isfinite(gold['Height'])&np.isfinite(gold['Weight'])]"
   ]
  },
  {
   "cell_type": "code",
   "execution_count": 28,
   "metadata": {},
   "outputs": [],
   "source": [
    "gold = gold[~pd.isnull(gold.region)]"
   ]
  },
  {
   "cell_type": "code",
   "execution_count": 29,
   "metadata": {},
   "outputs": [],
   "source": [
    "# define selection\n",
    "selection = alt.selection_multi(fields=['Sport'], empty='none', on='mouseover')\n",
    "color = alt.condition(selection,\n",
    "                      alt.Color('Sport:N', legend=None),\n",
    "                      alt.value('lightgray'))"
   ]
  },
  {
   "cell_type": "code",
   "execution_count": 30,
   "metadata": {},
   "outputs": [],
   "source": [
    "# get top 25 countries with most medals\n",
    "n = 25\n",
    "countrylist = gold['region'].value_counts()[:n].index.tolist()\n",
    "# define dropdown list\n",
    "country_dropdown = alt.binding_select(options=countrylist, name='Country: ')\n",
    "country_select = alt.selection_single(fields=['region'], bind=country_dropdown)"
   ]
  },
  {
   "cell_type": "code",
   "execution_count": 31,
   "metadata": {},
   "outputs": [],
   "source": [
    "# no of gold medalists in various sports\n",
    "plot1 = alt.Chart(gold).mark_bar().encode(\n",
    "x = alt.X('Sport:O'),\n",
    "y = alt.Y('count()',title=\"No of golds\"),\n",
    "color=color\n",
    ").properties(\n",
    "    width=400\n",
    ").add_selection(\n",
    "    selection,\n",
    "    country_select\n",
    ").properties(\n",
    "    title='Gold Medal distribution by Sport',height = 400\n",
    ").transform_filter(\n",
    "    country_select\n",
    ")"
   ]
  },
  {
   "cell_type": "code",
   "execution_count": 32,
   "metadata": {},
   "outputs": [],
   "source": [
    "# Age distribution histogram\n",
    "plot2 = alt.Chart(gold).mark_bar(color='teal').encode(\n",
    "x=alt.X('Age:Q'),\n",
    "y=alt.Y('count()',scale=alt.Scale(domain=(0, 500), clamp = True),title=\"No of golds\")\n",
    ").properties(\n",
    "    title='Age Distribution of Gold medals',\n",
    "    height= 100,\n",
    "    width=300\n",
    ").add_selection(\n",
    "    selection, \n",
    "    country_select\n",
    ").transform_filter(\n",
    "    country_select\n",
    ").transform_filter(\n",
    "    selection\n",
    ")"
   ]
  },
  {
   "cell_type": "code",
   "execution_count": 33,
   "metadata": {},
   "outputs": [],
   "source": [
    "# Physical attributes of females\n",
    "plot3 = alt.Chart(gold[gold.Sex=='F']).mark_point().encode(\n",
    "x=alt.X('Height:Q', scale=alt.Scale(domain=(130,230)), title=\"Height(cm)\"),\n",
    "y=alt.Y('Weight:Q', scale=alt.Scale(domain=(20,180)), title=\"Weight(kg)\"),\n",
    "tooltip=['Name:O','Year:O','Height:Q','Weight:Q','Event:O', 'Sport:O'],\n",
    "color=color\n",
    ").add_selection(\n",
    "    country_select\n",
    ").properties(\n",
    "    title='Height vs Weight for Female Gold medalists'\n",
    ").transform_filter(\n",
    "    country_select\n",
    ")"
   ]
  },
  {
   "cell_type": "code",
   "execution_count": 35,
   "metadata": {},
   "outputs": [],
   "source": [
    "# Physical attributes of females\n",
    "plot4 = alt.Chart(gold[gold.Sex=='M']).mark_point().encode(\n",
    "x=alt.X('Height:Q', scale=alt.Scale(domain=(130,230)), title=\"Height(cm)\"),\n",
    "y=alt.Y('Weight:Q', scale=alt.Scale(domain=(20,180)), title=\"Weight(kg)\"),\n",
    "tooltip=['Name:O','Year:O','Height:Q','Weight:Q','Event:O', 'Sport:O'],\n",
    "color=color\n",
    ").add_selection(\n",
    "    country_select\n",
    ").properties(\n",
    "    title='Height vs Weight for Male Gold medalists'\n",
    ").transform_filter(\n",
    "    country_select\n",
    ")"
   ]
  },
  {
   "cell_type": "code",
   "execution_count": 36,
   "metadata": {},
   "outputs": [],
   "source": [
    "# bringing it all together\n",
    "chart = plot1 & plot2 | plot3 & plot4"
   ]
  },
  {
   "cell_type": "code",
   "execution_count": 37,
   "metadata": {},
   "outputs": [],
   "source": [
    "# saving the visualisation\n",
    "chart.save('chart.html', embed_options={'renderer':'svg'})"
   ]
  },
  {
   "cell_type": "code",
   "execution_count": null,
   "metadata": {},
   "outputs": [],
   "source": [
    "# preview\n",
    "chart"
   ]
  },
  {
   "cell_type": "code",
   "execution_count": null,
   "metadata": {},
   "outputs": [],
   "source": []
  }
 ],
 "metadata": {
  "kernelspec": {
   "display_name": "Python 3",
   "language": "python",
   "name": "python3"
  },
  "language_info": {
   "codemirror_mode": {
    "name": "ipython",
    "version": 3
   },
   "file_extension": ".py",
   "mimetype": "text/x-python",
   "name": "python",
   "nbconvert_exporter": "python",
   "pygments_lexer": "ipython3",
   "version": "3.7.3"
  }
 },
 "nbformat": 4,
 "nbformat_minor": 2
}
